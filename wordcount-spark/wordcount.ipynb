{
 "cells": [
  {
   "cell_type": "code",
   "execution_count": 1,
   "metadata": {},
   "outputs": [],
   "source": [
    "from pyspark.sql import SparkSession"
   ]
  },
  {
   "cell_type": "code",
   "execution_count": 2,
   "metadata": {},
   "outputs": [
    {
     "name": "stderr",
     "output_type": "stream",
     "text": [
      "Setting default log level to \"WARN\".\n",
      "To adjust logging level use sc.setLogLevel(newLevel). For SparkR, use setLogLevel(newLevel).\n",
      "24/11/19 16:05:03 WARN NativeCodeLoader: Unable to load native-hadoop library for your platform... using builtin-java classes where applicable\n"
     ]
    }
   ],
   "source": [
    "spark = SparkSession.builder \\\n",
    "    .appName(\"WordCount\") \\\n",
    "    .master(\"local\") \\\n",
    "    .getOrCreate()"
   ]
  },
  {
   "cell_type": "code",
   "execution_count": 3,
   "metadata": {},
   "outputs": [],
   "source": [
    "path_file = \"text.txt\"\n",
    "text_file = spark.read.text(path_file)"
   ]
  },
  {
   "cell_type": "code",
   "execution_count": 4,
   "metadata": {},
   "outputs": [],
   "source": [
    "word_counts = text_file.rdd.flatMap(lambda line: line.value.split()) \\\n",
    "                            .map(lambda word: (word, 1)) \\\n",
    "                            .reduceByKey(lambda a, b: a +b)"
   ]
  },
  {
   "cell_type": "code",
   "execution_count": 5,
   "metadata": {},
   "outputs": [
    {
     "name": "stderr",
     "output_type": "stream",
     "text": [
      "[Stage 0:>                                                          (0 + 1) / 1]\r"
     ]
    },
    {
     "name": "stdout",
     "output_type": "stream",
     "text": [
      "Lorem: 1\n",
      "ipsum: 1\n",
      "dolor: 2\n",
      "sit: 1\n",
      "amet,: 1\n",
      "consectetur: 1\n",
      "adipiscing: 1\n",
      "elit,: 1\n",
      "sed: 1\n",
      "do: 1\n",
      "eiusmod: 1\n",
      "tempor: 1\n",
      "incididunt: 1\n",
      "ut: 2\n",
      "labore: 1\n",
      "et: 1\n",
      "dolore: 2\n",
      "magna: 1\n",
      "aliqua.: 1\n",
      "Ut: 1\n",
      "enim: 1\n",
      "ad: 1\n",
      "minim: 1\n",
      "veniam,: 1\n",
      "quis: 1\n",
      "nostrud: 1\n",
      "exercitation: 1\n",
      "ullamco: 1\n",
      "laboris: 1\n",
      "nisi: 1\n",
      "aliquip: 1\n",
      "ex: 1\n",
      "ea: 1\n",
      "commodo: 1\n",
      "consequat.: 1\n",
      "Duis: 1\n",
      "aute: 1\n",
      "irure: 1\n",
      "in: 3\n",
      "reprehenderit: 1\n",
      "voluptate: 1\n",
      "velit: 1\n",
      "esse: 1\n",
      "cillum: 1\n",
      "eu: 1\n",
      "fugiat: 1\n",
      "nulla: 1\n",
      "pariatur.: 1\n",
      "Excepteur: 1\n",
      "sint: 1\n",
      "occaecat: 1\n",
      "cupidatat: 1\n",
      "non: 1\n",
      "proident,: 1\n",
      "sunt: 1\n",
      "culpa: 1\n",
      "qui: 1\n",
      "officia: 1\n",
      "deserunt: 1\n",
      "mollit: 1\n",
      "anim: 1\n",
      "id: 1\n",
      "est: 1\n",
      "laborum: 1\n"
     ]
    },
    {
     "name": "stderr",
     "output_type": "stream",
     "text": [
      "                                                                                \r"
     ]
    }
   ],
   "source": [
    "for word, count in word_counts.collect():\n",
    "    print(f\"{word}: {count}\")"
   ]
  },
  {
   "cell_type": "code",
   "execution_count": 6,
   "metadata": {},
   "outputs": [],
   "source": [
    "spark.stop()"
   ]
  },
  {
   "cell_type": "code",
   "execution_count": null,
   "metadata": {},
   "outputs": [],
   "source": []
  }
 ],
 "metadata": {
  "kernelspec": {
   "display_name": "data-quality",
   "language": "python",
   "name": "python3"
  },
  "language_info": {
   "codemirror_mode": {
    "name": "ipython",
    "version": 3
   },
   "file_extension": ".py",
   "mimetype": "text/x-python",
   "name": "python",
   "nbconvert_exporter": "python",
   "pygments_lexer": "ipython3",
   "version": "3.13.0"
  }
 },
 "nbformat": 4,
 "nbformat_minor": 2
}
